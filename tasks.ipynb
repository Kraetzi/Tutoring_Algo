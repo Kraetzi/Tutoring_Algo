{
 "cells": [
  {
   "attachments": {},
   "cell_type": "markdown",
   "metadata": {},
   "source": [
    "Task 1: Write a function sort_string_list(strings) that sorts a list of strings in alphabetical order.\n",
    "strings = ['c', 'a', 'b', 'd', 'e']"
   ]
  },
  {
   "cell_type": "code",
   "execution_count": null,
   "metadata": {},
   "outputs": [],
   "source": [
    "def sort_string_list(strings):\n",
    "    for i in range(len(strings)):\n",
    "        min_index = i\n",
    "        for j in range(i+1, len(strings)):\n",
    "            if strings[j] < strings[min_index]:\n",
    "                min_index = j\n",
    "        strings[i], strings[min_index] = strings[min_index], strings[i]\n",
    "\n",
    "# Test the sorting function\n",
    "strings = ['c', 'a', 'b', 'd', 'e']\n",
    "sort_string_list(strings)\n",
    "print(strings)  # Output: ['a', 'b', 'c', 'd', 'e']\n"
   ]
  },
  {
   "attachments": {},
   "cell_type": "markdown",
   "metadata": {},
   "source": [
    "Task 2: Write a function sort_tuple_list(tuples) that sorts a list of tuples based on the second element in each tuple. The tuples should be sorted in ascending order. tuples = [('a', 3), ('b', 1), ('c', 2), ('d', 4)]"
   ]
  },
  {
   "cell_type": "code",
   "execution_count": 1,
   "metadata": {},
   "outputs": [
    {
     "name": "stdout",
     "output_type": "stream",
     "text": [
      "[('b', 1), ('c', 2), ('a', 3), ('d', 4)]\n"
     ]
    }
   ],
   "source": [
    "#bubblesort\n",
    "def sort_tuple_list(tuples):\n",
    "    # Iterate through the list of tuples\n",
    "    for i in range(len(tuples)):\n",
    "        # Swap adjacent tuples if they are not in the correct order\n",
    "        for j in range(len(tuples)-1-i):\n",
    "            if tuples[j][1] > tuples[j+1][1]:\n",
    "                tuples[j], tuples[j+1] = tuples[j+1], tuples[j]\n",
    "\n",
    "# Test the sorting function\n",
    "tuples = [('a', 3), ('b', 1), ('c', 2), ('d', 4)]\n",
    "sort_tuple_list(tuples)\n",
    "print(tuples)  # Output: [('b', 1), ('c', 2), ('a', 3), ('d', 4)]\n"
   ]
  },
  {
   "attachments": {},
   "cell_type": "markdown",
   "metadata": {},
   "source": [
    "Task 3: Write a function sort_dict_list(dicts) that sorts a list of dictionaries based on the value of a given key. The dictionaries should be sorted in descending order.\n",
    "dicts = [{'name': 'Alice', 'age': 20}, {'name': 'Bob', 'age': 25}, {'name': 'Eve', 'age': 30}]\n",
    "\n"
   ]
  },
  {
   "cell_type": "code",
   "execution_count": null,
   "metadata": {},
   "outputs": [],
   "source": [
    "# insertion sort\n",
    "def sort_dict_list(dicts, key):\n",
    "    # Iterate through the list of dictionaries\n",
    "    for i in range(1, len(dicts)):\n",
    "        # Find the correct position for the current dictionary in the sorted portion of the list\n",
    "        j = i\n",
    "        while j > 0 and dicts[j][key] > dicts[j-1][key]:\n",
    "            dicts[j], dicts[j-1] = dicts[j-1], dicts[j]\n",
    "            j -= 1\n",
    "\n",
    "# Test the sorting function\n",
    "dicts = [{'name': 'Alice', 'age': 20}, {'name': 'Bob', 'age': 25}, {'name': 'Eve', 'age': 30}]\n",
    "sort_dict_list(dicts, 'age')\n",
    "print(dicts)"
   ]
  }
 ],
 "metadata": {
  "kernelspec": {
   "display_name": "Python 3",
   "language": "python",
   "name": "python3"
  },
  "language_info": {
   "codemirror_mode": {
    "name": "ipython",
    "version": 3
   },
   "file_extension": ".py",
   "mimetype": "text/x-python",
   "name": "python",
   "nbconvert_exporter": "python",
   "pygments_lexer": "ipython3",
   "version": "3.8.10"
  },
  "orig_nbformat": 4,
  "vscode": {
   "interpreter": {
    "hash": "916dbcbb3f70747c44a77c7bcd40155683ae19c65e1c03b4aa3499c5328201f1"
   }
  }
 },
 "nbformat": 4,
 "nbformat_minor": 2
}
