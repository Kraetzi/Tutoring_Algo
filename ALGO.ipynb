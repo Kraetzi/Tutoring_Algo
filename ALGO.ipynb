{
 "cells": [
  {
   "cell_type": "markdown",
   "metadata": {},
   "source": [
    "## Introduction to Algorithms\n",
    "\n",
    "- search algo (binary search)\n",
    "- run time of an algo (binary search)\n",
    "- Big O notation for binary search"
   ]
  },
  {
   "cell_type": "markdown",
   "metadata": {},
   "source": [
    "### Introduction\n",
    "- an algorithm (*algo*) is a set of instructions\n",
    "- there are different algos for the same task\n",
    "- each algo has a trade off"
   ]
  },
  {
   "cell_type": "markdown",
   "metadata": {},
   "source": [
    "Problem: Suppose We search the number 100 in a sorted list of 100 elements ranging from 1 to 100.\n",
    "We could search from the start until the end of the list:\n",
    "\n",
    "\n",
    "\n",
    "\n",
    "We have an algorithm with a time complexity of $0(N)$: The algo would take 100 steps (operations) if we would search for the number 100.\n",
    "- $0(N)$ --> linear complexity $f(N) = N$\n",
    "- $0(1)$ --> constant complexity $f(N) = 1$\n",
    "- $0(N * N)$ --> quadratic complexity $f(N) = N^{2}$"
   ]
  },
  {
   "cell_type": "markdown",
   "metadata": {},
   "source": [
    "### A better Way to search - Binary Search\n",
    "- suppose we have a list of [1,2,3,4,....,49,50,51,100] and we want to search for the number 57:\n",
    "\n",
    "1. start at the middle: Guess 50; Too low, but you juts eliminated *half* the numbers! Now you know that 1-50 are all to low.\n",
    "2. Next guess: 75 to high, but you cut down half of the remaining numbers!\n",
    "3. *With binary search, you guess the middle number and eliminate half the ramaining numbers every time.*"
   ]
  },
  {
   "cell_type": "code",
   "execution_count": 29,
   "metadata": {},
   "outputs": [
    {
     "data": {
      "text/plain": [
       "100"
      ]
     },
     "execution_count": 29,
     "metadata": {},
     "output_type": "execute_result"
    }
   ],
   "source": [
    "l1 = list(range(1,101))\n",
    "length_step1 = len(l1)\n",
    "length_step1"
   ]
  },
  {
   "cell_type": "code",
   "execution_count": 30,
   "metadata": {},
   "outputs": [
    {
     "name": "stdout",
     "output_type": "stream",
     "text": [
      "50\n",
      "50 51 52 53 54 55 56 57 58 59 60 61 62 63 64 65 66 67 68 69 70 71 72 73 74 75 76 77 78 79 80 81 82 83 84 85 86 87 88 89 90 91 92 93 94 95 96 97 98 99 100\n"
     ]
    }
   ],
   "source": [
    "print(l1[int((len(l1)-1)/2)])\n",
    "middle = int((len(l1)-1)/2)\n",
    "l2 = l1[middle:]\n",
    "print(*l2)"
   ]
  },
  {
   "cell_type": "code",
   "execution_count": 31,
   "metadata": {},
   "outputs": [
    {
     "name": "stdout",
     "output_type": "stream",
     "text": [
      "75\n",
      "50 51 52 53 54 55 56 57 58 59 60 61 62 63 64 65 66 67 68 69 70 71 72 73 74\n"
     ]
    }
   ],
   "source": [
    "middle = int((len(l2))/2)\n",
    "middle\n",
    "print(l2[middle])\n",
    "l3 = l2[:middle]\n",
    "print(*l3)"
   ]
  },
  {
   "cell_type": "code",
   "execution_count": 32,
   "metadata": {},
   "outputs": [
    {
     "name": "stdout",
     "output_type": "stream",
     "text": [
      "50 51 52 53 54 55 56 57 58 59 60 61 62\n"
     ]
    }
   ],
   "source": [
    "middle = int(len(l3)/2) + 1\n",
    "l3[middle]\n",
    "l4 = l3[:middle]\n",
    "print(*l4)"
   ]
  },
  {
   "cell_type": "code",
   "execution_count": 33,
   "metadata": {},
   "outputs": [
    {
     "data": {
      "text/plain": [
       "56"
      ]
     },
     "execution_count": 33,
     "metadata": {},
     "output_type": "execute_result"
    }
   ],
   "source": [
    "middle = int(len(l4)/2)\n",
    "middle\n",
    "l4[middle]"
   ]
  },
  {
   "cell_type": "markdown",
   "metadata": {},
   "source": [
    "In total it took us four steps: \n",
    "1.step(100->50)\n",
    "2.step(50->25)\n",
    "3.step(25->12)\n",
    "\n"
   ]
  },
  {
   "cell_type": "markdown",
   "metadata": {},
   "source": [
    "Binary search will take only 20 steps for 1 million items in a sequence.\n",
    "In general, for any list of n, binary search will take $(log2n)$ steps to run in the worst case, whereas simple will take n steps."
   ]
  },
  {
   "cell_type": "markdown",
   "metadata": {},
   "source": [
    "## Logarithms\n",
    "log10100 is like asking \"How many times do we have to multiply 10 with itself to get 100?\" The answer is 10*10"
   ]
  },
  {
   "cell_type": "markdown",
   "metadata": {},
   "source": [
    "### Running time\n",
    "\n",
    "In simple search the maximum number of guesses is the same as the size of the list. This is called linear time. Binary search runs in logarithmic time."
   ]
  },
  {
   "cell_type": "markdown",
   "metadata": {},
   "source": [
    "## Selection Sort"
   ]
  },
  {
   "cell_type": "code",
   "execution_count": 34,
   "metadata": {},
   "outputs": [
    {
     "data": {
      "text/plain": [
       "[111, 61, 88, 94, 35, 141, 156]"
      ]
     },
     "execution_count": 34,
     "metadata": {},
     "output_type": "execute_result"
    }
   ],
   "source": [
    "l = [156, 141, 35, 94, 88, 61, 111]\n",
    "\n",
    "def findSmallest(arr):\n",
    "    smallest = arr[0]\n",
    "    smallest_index = 0\n",
    "    for i in range(1, len(arr)):\n",
    "        if arr[i] < smallest:\n",
    "            smallest = arr[1]\n",
    "            smallest_index = i\n",
    "    return smallest_index\n",
    "\n",
    "findSmallest(l)\n",
    "\n",
    "def selectionSort(arr):\n",
    "    newArr = []\n",
    "    for i in range(len(arr)):\n",
    "        smallest_index = findSmallest(arr)\n",
    "        newArr.append(arr.pop(smallest_index))\n",
    "    return newArr\n",
    "\n",
    "selectionSort(l)"
   ]
  },
  {
   "cell_type": "markdown",
   "metadata": {},
   "source": [
    "## Recursion\n",
    "\n",
    "Recursion is a coding technique used in many algos. For example, in the bubblesort algo you had to use recursion. A common example to demonstrate recursion is the faculty function: 5! = 1*2*3*4*5"
   ]
  },
  {
   "cell_type": "code",
   "execution_count": 35,
   "metadata": {},
   "outputs": [
    {
     "data": {
      "text/plain": [
       "120"
      ]
     },
     "execution_count": 35,
     "metadata": {},
     "output_type": "execute_result"
    }
   ],
   "source": [
    "def fac(n):\n",
    "    result = 1\n",
    "    for i in range(1,n+1):\n",
    "        result *= i\n",
    "    return result\n",
    "\n",
    "fac(5)"
   ]
  },
  {
   "cell_type": "code",
   "execution_count": 36,
   "metadata": {},
   "outputs": [
    {
     "data": {
      "text/plain": [
       "120"
      ]
     },
     "execution_count": 36,
     "metadata": {},
     "output_type": "execute_result"
    }
   ],
   "source": [
    "def fac(n):\n",
    "    if n == 1: #stopping condition ; base case\n",
    "        return 1\n",
    "    else:      # recusruve case\n",
    "        return n * fac(n-1)\n",
    "\n",
    "fac(5)"
   ]
  },
  {
   "cell_type": "markdown",
   "metadata": {},
   "source": [
    "n * fac(n-1); fac(5) ---> 5 * fac(4) --> 5 * (4 * fac(3)) --> 5 * (4 * (3* fac(1))) ..... = n!"
   ]
  },
  {
   "cell_type": "markdown",
   "metadata": {},
   "source": [
    "### The stack \n",
    "A stack is like a stack of sticky notes. When you add an elementm it gets added to the top of the sticky notes. When you read an item, you only read the topmost item, and it's taken off the stack of sticky notes.\n",
    "\n",
    "A stack works like the sticky notes and is a simple data structure.\n",
    "\n",
    "### The Call Stack\n",
    "The computer uses a stack internally called call stack."
   ]
  },
  {
   "cell_type": "code",
   "execution_count": 37,
   "metadata": {},
   "outputs": [
    {
     "name": "stdout",
     "output_type": "stream",
     "text": [
      "greet2\n",
      "bye\n"
     ]
    }
   ],
   "source": [
    "def greet2(name):\n",
    "    print(\"greet2\")\n",
    "\n",
    "def bye():\n",
    "    print(\"bye\")\n",
    "\n",
    "def greet(name):\n",
    "    greet2(name)\n",
    "    bye()\n",
    "\n",
    "greet(\"Hannah\")"
   ]
  },
  {
   "cell_type": "markdown",
   "metadata": {},
   "source": [
    "- The variable name \"Hannah\" is saved in memory\n",
    "- every time you make a function call, all values for all variables for that call are stored in memory.\n",
    "- after greet2 you make a further function call(bye()); again memory for this call and all associated variables is allocated\n",
    "- after greet2 and bye() is done, the top box is popped off the call stack\n",
    "- When greet2 was called greet() was only *partially completed*\n",
    "\n",
    "when you call a function from within a function, the calling function is paused in a *partially complete state*."
   ]
  },
  {
   "cell_type": "markdown",
   "metadata": {},
   "source": [
    "fac(3) ---> 3 * fac(2) --> 3 * "
   ]
  },
  {
   "attachments": {},
   "cell_type": "markdown",
   "metadata": {},
   "source": [
    "# Divide and Conquer\n",
    "- D & C is a general technique used for algos\n",
    "\n",
    "Suppose you want to divide a plot of land in:"
   ]
  },
  {
   "cell_type": "code",
   "execution_count": null,
   "metadata": {},
   "outputs": [],
   "source": []
  },
  {
   "cell_type": "code",
   "execution_count": 38,
   "metadata": {},
   "outputs": [
    {
     "data": {
      "text/plain": [
       "4"
      ]
     },
     "execution_count": 38,
     "metadata": {},
     "output_type": "execute_result"
    }
   ],
   "source": [
    "def hcf(a,b):\n",
    "    if a % b == 0:\n",
    "        return b\n",
    "    else:\n",
    "        remainder = a % b\n",
    "        return hcf(b, remainder)\n",
    "\n",
    "hcf(32,12)"
   ]
  },
  {
   "attachments": {},
   "cell_type": "markdown",
   "metadata": {},
   "source": [
    "## Quicksort \n",
    "\n",
    "- uses an D&C\n",
    "[33,15,10]\n",
    "\n",
    "break down this list until you're at the base case.\n",
    "\n",
    "1. pick on element from the list. This element is called pivot. for example 33\n",
    "2. Find the element for smaller than pivot and the elements larger than the pivot\n",
    "\n",
    "smaller: '''[15,10]'''bigger'''[]'''\n",
    "\n",
    "This is called partitioning. We have now:\n",
    "\n",
    "- A sub-list of all numbers less than the pivot \n",
    "- the pivot\n",
    "- a sub-list of all numbers greater than the pivot\n",
    "\n",
    "If they were sorted we could write: *left list + pivot +right list*"
   ]
  },
  {
   "cell_type": "code",
   "execution_count": 39,
   "metadata": {},
   "outputs": [
    {
     "data": {
      "text/plain": [
       "[10, 15, 33]"
      ]
     },
     "execution_count": 39,
     "metadata": {},
     "output_type": "execute_result"
    }
   ],
   "source": [
    "[10,15] + [33] + []"
   ]
  },
  {
   "cell_type": "code",
   "execution_count": 40,
   "metadata": {},
   "outputs": [
    {
     "ename": "TypeError",
     "evalue": "quicksort() takes 0 positional arguments but 1 was given",
     "output_type": "error",
     "traceback": [
      "\u001b[0;31m---------------------------------------------------------------------------\u001b[0m",
      "\u001b[0;31mTypeError\u001b[0m                                 Traceback (most recent call last)",
      "Cell \u001b[0;32mIn [40], line 4\u001b[0m\n\u001b[1;32m      1\u001b[0m \u001b[39mdef\u001b[39;00m \u001b[39mquicksort\u001b[39m():\n\u001b[1;32m      2\u001b[0m     \u001b[39mpass\u001b[39;00m\n\u001b[0;32m----> 4\u001b[0m quicksort([\u001b[39m12\u001b[39;49m,\u001b[39m10\u001b[39;49m]) \u001b[39m+\u001b[39m [\u001b[39m33\u001b[39m] \u001b[39m+\u001b[39m quicksort([])\n",
      "\u001b[0;31mTypeError\u001b[0m: quicksort() takes 0 positional arguments but 1 was given"
     ]
    }
   ],
   "source": [
    "def quicksort():\n",
    "    pass\n",
    "\n",
    "quicksort([12,10]) + [33] + quicksort([])"
   ]
  },
  {
   "cell_type": "code",
   "execution_count": null,
   "metadata": {},
   "outputs": [
    {
     "name": "stdout",
     "output_type": "stream",
     "text": [
      "less:[5, 2, 3, 4, 4]\n",
      "pivot:10\n",
      "greater:[]\n",
      "less:[2, 3, 4, 4]\n",
      "pivot:5\n",
      "greater:[]\n",
      "less:[]\n",
      "pivot:2\n",
      "greater:[3, 4, 4]\n",
      "less:[]\n",
      "pivot:3\n",
      "greater:[4, 4]\n",
      "less:[4]\n",
      "pivot:4\n",
      "greater:[]\n"
     ]
    },
    {
     "data": {
      "text/plain": [
       "[2, 3, 4, 4, 5, 10]"
      ]
     },
     "execution_count": 16,
     "metadata": {},
     "output_type": "execute_result"
    }
   ],
   "source": [
    "def quicksort(array):\n",
    "    if len(array) < 2:\n",
    "        return array\n",
    "    else:\n",
    "        pivot = array[0]\n",
    "        less = [element for element in array[1:] if element <= pivot]\n",
    "        greater = [element for element in array[1:] if element > pivot]\n",
    "        print(f\"less:{less}\")\n",
    "        print(f\"pivot:{pivot}\")\n",
    "        print(f\"greater:{greater}\")\n",
    "    return quicksort(less) + [pivot] + quicksort(greater)\n",
    "\n",
    "quicksort([10,5,2,3,4,4])"
   ]
  },
  {
   "attachments": {},
   "cell_type": "markdown",
   "metadata": {},
   "source": [
    "Quicksort: worse case: $0(0^{2})$ average : $0(N *log N)%\n",
    "\n",
    "mergesort: worse case: $(0 * log N)$"
   ]
  },
  {
   "cell_type": "code",
   "execution_count": 42,
   "metadata": {},
   "outputs": [
    {
     "ename": "KeyError",
     "evalue": "'Rectangle:kwdoc'",
     "output_type": "error",
     "traceback": [
      "\u001b[0;31m---------------------------------------------------------------------------\u001b[0m",
      "\u001b[0;31mValueError\u001b[0m                                Traceback (most recent call last)",
      "File \u001b[0;32m~/.local/lib/python3.8/site-packages/matplotlib/_docstring.py:57\u001b[0m, in \u001b[0;36m_ArtistKwdocLoader.__missing__\u001b[0;34m(self, key)\u001b[0m\n\u001b[1;32m     56\u001b[0m \u001b[39mtry\u001b[39;00m:\n\u001b[0;32m---> 57\u001b[0m     \u001b[39mcls\u001b[39m, \u001b[39m=\u001b[39m [\u001b[39mcls\u001b[39m \u001b[39mfor\u001b[39;00m \u001b[39mcls\u001b[39m \u001b[39min\u001b[39;00m _api\u001b[39m.\u001b[39mrecursive_subclasses(Artist)\n\u001b[1;32m     58\u001b[0m             \u001b[39mif\u001b[39;00m \u001b[39mcls\u001b[39m\u001b[39m.\u001b[39m\u001b[39m__name__\u001b[39m \u001b[39m==\u001b[39m name]\n\u001b[1;32m     59\u001b[0m \u001b[39mexcept\u001b[39;00m \u001b[39mValueError\u001b[39;00m \u001b[39mas\u001b[39;00m e:\n",
      "\u001b[0;31mValueError\u001b[0m: too many values to unpack (expected 1)",
      "\nThe above exception was the direct cause of the following exception:\n",
      "\u001b[0;31mKeyError\u001b[0m                                  Traceback (most recent call last)",
      "Cell \u001b[0;32mIn [42], line 1\u001b[0m\n\u001b[0;32m----> 1\u001b[0m \u001b[39mimport\u001b[39;00m \u001b[39mmatplotlib\u001b[39;00m\u001b[39m.\u001b[39;00m\u001b[39mpyplot\u001b[39;00m \u001b[39mas\u001b[39;00m \u001b[39mplt\u001b[39;00m\n\u001b[1;32m      2\u001b[0m \u001b[39mimport\u001b[39;00m \u001b[39mmath\u001b[39;00m\n\u001b[1;32m      4\u001b[0m \u001b[39mdef\u001b[39;00m \u001b[39mplot\u001b[39m(sizes, results):\n",
      "File \u001b[0;32m~/.local/lib/python3.8/site-packages/matplotlib/pyplot.py:60\u001b[0m\n\u001b[1;32m     58\u001b[0m \u001b[39mfrom\u001b[39;00m \u001b[39mmatplotlib\u001b[39;00m \u001b[39mimport\u001b[39;00m _docstring\n\u001b[1;32m     59\u001b[0m \u001b[39mfrom\u001b[39;00m \u001b[39mmatplotlib\u001b[39;00m\u001b[39m.\u001b[39;00m\u001b[39mbackend_bases\u001b[39;00m \u001b[39mimport\u001b[39;00m FigureCanvasBase, MouseButton\n\u001b[0;32m---> 60\u001b[0m \u001b[39mfrom\u001b[39;00m \u001b[39mmatplotlib\u001b[39;00m\u001b[39m.\u001b[39;00m\u001b[39mfigure\u001b[39;00m \u001b[39mimport\u001b[39;00m Figure, FigureBase, figaspect\n\u001b[1;32m     61\u001b[0m \u001b[39mfrom\u001b[39;00m \u001b[39mmatplotlib\u001b[39;00m\u001b[39m.\u001b[39;00m\u001b[39mgridspec\u001b[39;00m \u001b[39mimport\u001b[39;00m GridSpec, SubplotSpec\n\u001b[1;32m     62\u001b[0m \u001b[39mfrom\u001b[39;00m \u001b[39mmatplotlib\u001b[39;00m \u001b[39mimport\u001b[39;00m rcParams, rcParamsDefault, get_backend, rcParamsOrig\n",
      "File \u001b[0;32m~/.local/lib/python3.8/site-packages/matplotlib/figure.py:26\u001b[0m\n\u001b[1;32m     23\u001b[0m \u001b[39mimport\u001b[39;00m \u001b[39mnumpy\u001b[39;00m \u001b[39mas\u001b[39;00m \u001b[39mnp\u001b[39;00m\n\u001b[1;32m     25\u001b[0m \u001b[39mimport\u001b[39;00m \u001b[39mmatplotlib\u001b[39;00m \u001b[39mas\u001b[39;00m \u001b[39mmpl\u001b[39;00m\n\u001b[0;32m---> 26\u001b[0m \u001b[39mfrom\u001b[39;00m \u001b[39mmatplotlib\u001b[39;00m \u001b[39mimport\u001b[39;00m _blocking_input, backend_bases, _docstring, projections\n\u001b[1;32m     27\u001b[0m \u001b[39mfrom\u001b[39;00m \u001b[39mmatplotlib\u001b[39;00m\u001b[39m.\u001b[39;00m\u001b[39martist\u001b[39;00m \u001b[39mimport\u001b[39;00m (\n\u001b[1;32m     28\u001b[0m     Artist, allow_rasterization, _finalize_rasterization)\n\u001b[1;32m     29\u001b[0m \u001b[39mfrom\u001b[39;00m \u001b[39mmatplotlib\u001b[39;00m\u001b[39m.\u001b[39;00m\u001b[39mbackend_bases\u001b[39;00m \u001b[39mimport\u001b[39;00m (\n\u001b[1;32m     30\u001b[0m     DrawEvent, FigureCanvasBase, NonGuiException, MouseButton, _get_renderer)\n",
      "File \u001b[0;32m~/.local/lib/python3.8/site-packages/matplotlib/projections/__init__.py:55\u001b[0m\n\u001b[1;32m      1\u001b[0m \u001b[39m\"\"\"\u001b[39;00m\n\u001b[1;32m      2\u001b[0m \u001b[39mNon-separable transforms that map from data space to screen space.\u001b[39;00m\n\u001b[1;32m      3\u001b[0m \n\u001b[0;32m   (...)\u001b[0m\n\u001b[1;32m     52\u001b[0m \u001b[39m`matplotlib.projections.polar` may also be of interest.\u001b[39;00m\n\u001b[1;32m     53\u001b[0m \u001b[39m\"\"\"\u001b[39;00m\n\u001b[0;32m---> 55\u001b[0m \u001b[39mfrom\u001b[39;00m \u001b[39m.\u001b[39;00m\u001b[39m.\u001b[39;00m \u001b[39mimport\u001b[39;00m axes, _docstring\n\u001b[1;32m     56\u001b[0m \u001b[39mfrom\u001b[39;00m \u001b[39m.\u001b[39;00m\u001b[39mgeo\u001b[39;00m \u001b[39mimport\u001b[39;00m AitoffAxes, HammerAxes, LambertAxes, MollweideAxes\n\u001b[1;32m     57\u001b[0m \u001b[39mfrom\u001b[39;00m \u001b[39m.\u001b[39;00m\u001b[39mpolar\u001b[39;00m \u001b[39mimport\u001b[39;00m PolarAxes\n",
      "File \u001b[0;32m~/.local/lib/python3.8/site-packages/matplotlib/axes/__init__.py:1\u001b[0m\n\u001b[0;32m----> 1\u001b[0m \u001b[39mfrom\u001b[39;00m \u001b[39m.\u001b[39;00m\u001b[39m_subplots\u001b[39;00m \u001b[39mimport\u001b[39;00m \u001b[39m*\u001b[39m\n\u001b[1;32m      2\u001b[0m \u001b[39mfrom\u001b[39;00m \u001b[39m.\u001b[39;00m\u001b[39m_axes\u001b[39;00m \u001b[39mimport\u001b[39;00m \u001b[39m*\u001b[39m\n",
      "File \u001b[0;32m~/.local/lib/python3.8/site-packages/matplotlib/axes/_subplots.py:3\u001b[0m\n\u001b[1;32m      1\u001b[0m \u001b[39mimport\u001b[39;00m \u001b[39mmatplotlib\u001b[39;00m \u001b[39mas\u001b[39;00m \u001b[39mmpl\u001b[39;00m\n\u001b[1;32m      2\u001b[0m \u001b[39mfrom\u001b[39;00m \u001b[39mmatplotlib\u001b[39;00m \u001b[39mimport\u001b[39;00m cbook\n\u001b[0;32m----> 3\u001b[0m \u001b[39mfrom\u001b[39;00m \u001b[39mmatplotlib\u001b[39;00m\u001b[39m.\u001b[39;00m\u001b[39maxes\u001b[39;00m\u001b[39m.\u001b[39;00m\u001b[39m_axes\u001b[39;00m \u001b[39mimport\u001b[39;00m Axes\n\u001b[1;32m      4\u001b[0m \u001b[39mfrom\u001b[39;00m \u001b[39mmatplotlib\u001b[39;00m\u001b[39m.\u001b[39;00m\u001b[39mgridspec\u001b[39;00m \u001b[39mimport\u001b[39;00m SubplotSpec\n\u001b[1;32m      7\u001b[0m \u001b[39mclass\u001b[39;00m \u001b[39mSubplotBase\u001b[39;00m:\n",
      "File \u001b[0;32m~/.local/lib/python3.8/site-packages/matplotlib/axes/_axes.py:47\u001b[0m\n\u001b[1;32m     39\u001b[0m _log \u001b[39m=\u001b[39m logging\u001b[39m.\u001b[39mgetLogger(\u001b[39m__name__\u001b[39m)\n\u001b[1;32m     42\u001b[0m \u001b[39m# The axes module contains all the wrappers to plotting functions.\u001b[39;00m\n\u001b[1;32m     43\u001b[0m \u001b[39m# All the other methods should go in the _AxesBase class.\u001b[39;00m\n\u001b[1;32m     46\u001b[0m \u001b[39m@_docstring\u001b[39m\u001b[39m.\u001b[39minterpd\n\u001b[0;32m---> 47\u001b[0m \u001b[39mclass\u001b[39;00m \u001b[39mAxes\u001b[39;00m(_AxesBase):\n\u001b[1;32m     48\u001b[0m     \u001b[39m\"\"\"\u001b[39;00m\n\u001b[1;32m     49\u001b[0m \u001b[39m    The `Axes` contains most of the figure elements: `~.axis.Axis`,\u001b[39;00m\n\u001b[1;32m     50\u001b[0m \u001b[39m    `~.axis.Tick`, `~.lines.Line2D`, `~.text.Text`, `~.patches.Polygon`, etc.,\u001b[39;00m\n\u001b[0;32m   (...)\u001b[0m\n\u001b[1;32m     64\u001b[0m \n\u001b[1;32m     65\u001b[0m \u001b[39m    \"\"\"\u001b[39;00m\n\u001b[1;32m     66\u001b[0m     \u001b[39m### Labelling, legend and texts\u001b[39;00m\n",
      "File \u001b[0;32m~/.local/lib/python3.8/site-packages/matplotlib/axes/_axes.py:390\u001b[0m, in \u001b[0;36mAxes\u001b[0;34m()\u001b[0m\n\u001b[1;32m    385\u001b[0m     \u001b[39mself\u001b[39m\u001b[39m.\u001b[39madd_child_axes(inset_ax)\n\u001b[1;32m    387\u001b[0m     \u001b[39mreturn\u001b[39;00m inset_ax\n\u001b[1;32m    389\u001b[0m \u001b[39m@_docstring\u001b[39;49m\u001b[39m.\u001b[39;49mdedent_interpd\n\u001b[0;32m--> 390\u001b[0m \u001b[39mdef\u001b[39;49;00m \u001b[39mindicate_inset\u001b[39;49m(\u001b[39mself\u001b[39;49m, bounds, inset_ax\u001b[39m=\u001b[39;49m\u001b[39mNone\u001b[39;49;00m, \u001b[39m*\u001b[39;49m, transform\u001b[39m=\u001b[39;49m\u001b[39mNone\u001b[39;49;00m,\n\u001b[1;32m    391\u001b[0m                    facecolor\u001b[39m=\u001b[39;49m\u001b[39m'\u001b[39;49m\u001b[39mnone\u001b[39;49m\u001b[39m'\u001b[39;49m, edgecolor\u001b[39m=\u001b[39;49m\u001b[39m'\u001b[39;49m\u001b[39m0.5\u001b[39;49m\u001b[39m'\u001b[39;49m, alpha\u001b[39m=\u001b[39;49m\u001b[39m0.5\u001b[39;49m,\n\u001b[1;32m    392\u001b[0m                    zorder\u001b[39m=\u001b[39;49m\u001b[39m4.99\u001b[39;49m, \u001b[39m*\u001b[39;49m\u001b[39m*\u001b[39;49mkwargs):\n\u001b[1;32m    393\u001b[0m     \u001b[39m\"\"\"\u001b[39;49;00m\n\u001b[1;32m    394\u001b[0m \u001b[39m    Add an inset indicator to the Axes.  This is a rectangle on the plot\u001b[39;49;00m\n\u001b[1;32m    395\u001b[0m \u001b[39m    at the position indicated by *bounds* that optionally has lines that\u001b[39;49;00m\n\u001b[0;32m   (...)\u001b[0m\n\u001b[1;32m    446\u001b[0m \n\u001b[1;32m    447\u001b[0m \u001b[39m    \"\"\"\u001b[39;49;00m\n\u001b[1;32m    448\u001b[0m     \u001b[39m# to make the axes connectors work, we need to apply the aspect to\u001b[39;49;00m\n\u001b[1;32m    449\u001b[0m     \u001b[39m# the parent axes.\u001b[39;49;00m\n",
      "File \u001b[0;32m~/.local/lib/python3.8/site-packages/matplotlib/_docstring.py:80\u001b[0m, in \u001b[0;36m_ArtistPropertiesSubstitution.__call__\u001b[0;34m(self, obj)\u001b[0m\n\u001b[1;32m     79\u001b[0m \u001b[39mdef\u001b[39;00m \u001b[39m__call__\u001b[39m(\u001b[39mself\u001b[39m, obj):\n\u001b[0;32m---> 80\u001b[0m     \u001b[39msuper\u001b[39;49m()\u001b[39m.\u001b[39;49m\u001b[39m__call__\u001b[39;49m(obj)\n\u001b[1;32m     81\u001b[0m     \u001b[39mif\u001b[39;00m \u001b[39misinstance\u001b[39m(obj, \u001b[39mtype\u001b[39m) \u001b[39mand\u001b[39;00m obj\u001b[39m.\u001b[39m\u001b[39m__init__\u001b[39m \u001b[39m!=\u001b[39m \u001b[39mobject\u001b[39m\u001b[39m.\u001b[39m\u001b[39m__init__\u001b[39m:\n\u001b[1;32m     82\u001b[0m         \u001b[39mself\u001b[39m(obj\u001b[39m.\u001b[39m\u001b[39m__init__\u001b[39m)\n",
      "File \u001b[0;32m~/.local/lib/python3.8/site-packages/matplotlib/_docstring.py:40\u001b[0m, in \u001b[0;36mSubstitution.__call__\u001b[0;34m(self, func)\u001b[0m\n\u001b[1;32m     38\u001b[0m \u001b[39mdef\u001b[39;00m \u001b[39m__call__\u001b[39m(\u001b[39mself\u001b[39m, func):\n\u001b[1;32m     39\u001b[0m     \u001b[39mif\u001b[39;00m func\u001b[39m.\u001b[39m\u001b[39m__doc__\u001b[39m:\n\u001b[0;32m---> 40\u001b[0m         func\u001b[39m.\u001b[39m\u001b[39m__doc__\u001b[39m \u001b[39m=\u001b[39m inspect\u001b[39m.\u001b[39;49mcleandoc(func\u001b[39m.\u001b[39;49m\u001b[39m__doc__\u001b[39;49m) \u001b[39m%\u001b[39;49m \u001b[39mself\u001b[39;49m\u001b[39m.\u001b[39;49mparams\n\u001b[1;32m     41\u001b[0m     \u001b[39mreturn\u001b[39;00m func\n",
      "File \u001b[0;32m~/.local/lib/python3.8/site-packages/matplotlib/_docstring.py:60\u001b[0m, in \u001b[0;36m_ArtistKwdocLoader.__missing__\u001b[0;34m(self, key)\u001b[0m\n\u001b[1;32m     57\u001b[0m     \u001b[39mcls\u001b[39m, \u001b[39m=\u001b[39m [\u001b[39mcls\u001b[39m \u001b[39mfor\u001b[39;00m \u001b[39mcls\u001b[39m \u001b[39min\u001b[39;00m _api\u001b[39m.\u001b[39mrecursive_subclasses(Artist)\n\u001b[1;32m     58\u001b[0m             \u001b[39mif\u001b[39;00m \u001b[39mcls\u001b[39m\u001b[39m.\u001b[39m\u001b[39m__name__\u001b[39m \u001b[39m==\u001b[39m name]\n\u001b[1;32m     59\u001b[0m \u001b[39mexcept\u001b[39;00m \u001b[39mValueError\u001b[39;00m \u001b[39mas\u001b[39;00m e:\n\u001b[0;32m---> 60\u001b[0m     \u001b[39mraise\u001b[39;00m \u001b[39mKeyError\u001b[39;00m(key) \u001b[39mfrom\u001b[39;00m \u001b[39me\u001b[39;00m\n\u001b[1;32m     61\u001b[0m \u001b[39mreturn\u001b[39;00m \u001b[39mself\u001b[39m\u001b[39m.\u001b[39msetdefault(key, kwdoc(\u001b[39mcls\u001b[39m))\n",
      "\u001b[0;31mKeyError\u001b[0m: 'Rectangle:kwdoc'"
     ]
    }
   ],
   "source": [
    "import matplotlib.pyplot as plt\n",
    "import math\n",
    "\n",
    "def plot(sizes, results):\n",
    "    plt.plot(sizes, results, marker=\"x\")\n",
    "    plt.xlabel(\"size of list\")\n",
    "    plt.ylabel(\"steps\")\n",
    "    plt.legend()\n",
    "    plt.show()\n",
    "\n",
    "sizes = [*range(1,100)]\n",
    "NlogN = [ele * math.log(ele) for ele in sizes]\n",
    "N = [ele for ele in sizes]\n",
    "\n",
    "plt.pl\n",
    "plt.plot(sizes, NlogN, label = \"NlogN\")\n",
    "plt.plot(sizes, N, label=\"N\")\n",
    "plt.xlabel()\n",
    "plt.ylabel(\"size of list\")\n",
    "plt.legend(\"steps\")\n",
    "plt.show()"
   ]
  },
  {
   "attachments": {},
   "cell_type": "markdown",
   "metadata": {},
   "source": [
    "Array size | logN | N | N log N | N^{2}|\n",
    "|:--:|:--:|:--:|:--:|:--:|\n",
    "10|0.3|1sec|3.3|10|\n",
    "100|0.6|10sec|66.4|16,6min|\n",
    "1000|1 sec|100sec|996|27.7hours|"
   ]
  },
  {
   "attachments": {},
   "cell_type": "markdown",
   "metadata": {},
   "source": [
    "Regard these constants\n",
    "\n",
    "|Simple Search|Binary Search|\n",
    "|:--:|:--:|\n",
    "|10ms\\*N|1sex\\*log(N)|"
   ]
  },
  {
   "attachments": {},
   "cell_type": "markdown",
   "metadata": {},
   "source": [
    "simple search with N = 4Billion --> 10ms * 4Billion = 463 days\n",
    "binary search with N = 4Billion --> ls * log(4Billion) = 32 seconds"
   ]
  },
  {
   "attachments": {},
   "cell_type": "markdown",
   "metadata": {},
   "source": [
    "Quicksort: worse case"
   ]
  },
  {
   "cell_type": "code",
   "execution_count": null,
   "metadata": {},
   "outputs": [],
   "source": [
    "# Worst-case and Best case scenario of Quicksort\n",
    "\n"
   ]
  }
 ],
 "metadata": {
  "kernelspec": {
   "display_name": "Python 3.8.10 64-bit",
   "language": "python",
   "name": "python3"
  },
  "language_info": {
   "codemirror_mode": {
    "name": "ipython",
    "version": 3
   },
   "file_extension": ".py",
   "mimetype": "text/x-python",
   "name": "python",
   "nbconvert_exporter": "python",
   "pygments_lexer": "ipython3",
   "version": "3.8.10 (default, Nov 14 2022, 12:59:47) \n[GCC 9.4.0]"
  },
  "orig_nbformat": 4,
  "vscode": {
   "interpreter": {
    "hash": "916dbcbb3f70747c44a77c7bcd40155683ae19c65e1c03b4aa3499c5328201f1"
   }
  }
 },
 "nbformat": 4,
 "nbformat_minor": 2
}
